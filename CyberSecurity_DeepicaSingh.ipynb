{
  "nbformat": 4,
  "nbformat_minor": 0,
  "metadata": {
    "colab": {
      "name": "CyberSecurity_DeepicaSingh.ipynb",
      "provenance": [],
      "collapsed_sections": []
    },
    "kernelspec": {
      "name": "python3",
      "display_name": "Python 3"
    },
    "language_info": {
      "name": "python"
    }
  },
  "cells": [
    {
      "cell_type": "code",
      "execution_count": 46,
      "metadata": {
        "id": "oy20z07npSR_"
      },
      "outputs": [],
      "source": [
        "import numpy as np\n",
        "import pandas as pd\n",
        "import matplotlib.pyplot as plt\n",
        "import seaborn as sns\n",
        "from sklearn import preprocessing"
      ]
    },
    {
      "cell_type": "code",
      "source": [
        "dataset=pd.read_csv(\"dataset.csv\")"
      ],
      "metadata": {
        "id": "Pp_GHM7wqMC6"
      },
      "execution_count": 47,
      "outputs": []
    },
    {
      "cell_type": "code",
      "source": [
        "dataset.head()"
      ],
      "metadata": {
        "colab": {
          "base_uri": "https://localhost:8080/",
          "height": 300
        },
        "id": "d0nBsJdLqPs5",
        "outputId": "b5a60071-1b57-465c-f6c3-deb171582edc"
      },
      "execution_count": 48,
      "outputs": [
        {
          "output_type": "execute_result",
          "data": {
            "text/plain": [
              "   index  having_IPhaving_IP_Address  URLURL_Length  Shortining_Service  \\\n",
              "0      1                          -1              1                   1   \n",
              "1      2                           1              1                   1   \n",
              "2      3                           1              0                   1   \n",
              "3      4                           1              0                   1   \n",
              "4      5                           1              0                  -1   \n",
              "\n",
              "   having_At_Symbol  double_slash_redirecting  Prefix_Suffix  \\\n",
              "0                 1                        -1             -1   \n",
              "1                 1                         1             -1   \n",
              "2                 1                         1             -1   \n",
              "3                 1                         1             -1   \n",
              "4                 1                         1             -1   \n",
              "\n",
              "   having_Sub_Domain  SSLfinal_State  Domain_registeration_length  ...  \\\n",
              "0                 -1              -1                           -1  ...   \n",
              "1                  0               1                           -1  ...   \n",
              "2                 -1              -1                           -1  ...   \n",
              "3                 -1              -1                            1  ...   \n",
              "4                  1               1                           -1  ...   \n",
              "\n",
              "   popUpWidnow  Iframe  age_of_domain  DNSRecord  web_traffic  Page_Rank  \\\n",
              "0            1       1             -1         -1           -1         -1   \n",
              "1            1       1             -1         -1            0         -1   \n",
              "2            1       1              1         -1            1         -1   \n",
              "3            1       1             -1         -1            1         -1   \n",
              "4           -1       1             -1         -1            0         -1   \n",
              "\n",
              "   Google_Index  Links_pointing_to_page  Statistical_report  Result  \n",
              "0             1                       1                  -1      -1  \n",
              "1             1                       1                   1      -1  \n",
              "2             1                       0                  -1      -1  \n",
              "3             1                      -1                   1      -1  \n",
              "4             1                       1                   1       1  \n",
              "\n",
              "[5 rows x 32 columns]"
            ],
            "text/html": [
              "\n",
              "  <div id=\"df-0cfd29fd-085e-4b9e-896d-f3deb044d3a7\">\n",
              "    <div class=\"colab-df-container\">\n",
              "      <div>\n",
              "<style scoped>\n",
              "    .dataframe tbody tr th:only-of-type {\n",
              "        vertical-align: middle;\n",
              "    }\n",
              "\n",
              "    .dataframe tbody tr th {\n",
              "        vertical-align: top;\n",
              "    }\n",
              "\n",
              "    .dataframe thead th {\n",
              "        text-align: right;\n",
              "    }\n",
              "</style>\n",
              "<table border=\"1\" class=\"dataframe\">\n",
              "  <thead>\n",
              "    <tr style=\"text-align: right;\">\n",
              "      <th></th>\n",
              "      <th>index</th>\n",
              "      <th>having_IPhaving_IP_Address</th>\n",
              "      <th>URLURL_Length</th>\n",
              "      <th>Shortining_Service</th>\n",
              "      <th>having_At_Symbol</th>\n",
              "      <th>double_slash_redirecting</th>\n",
              "      <th>Prefix_Suffix</th>\n",
              "      <th>having_Sub_Domain</th>\n",
              "      <th>SSLfinal_State</th>\n",
              "      <th>Domain_registeration_length</th>\n",
              "      <th>...</th>\n",
              "      <th>popUpWidnow</th>\n",
              "      <th>Iframe</th>\n",
              "      <th>age_of_domain</th>\n",
              "      <th>DNSRecord</th>\n",
              "      <th>web_traffic</th>\n",
              "      <th>Page_Rank</th>\n",
              "      <th>Google_Index</th>\n",
              "      <th>Links_pointing_to_page</th>\n",
              "      <th>Statistical_report</th>\n",
              "      <th>Result</th>\n",
              "    </tr>\n",
              "  </thead>\n",
              "  <tbody>\n",
              "    <tr>\n",
              "      <th>0</th>\n",
              "      <td>1</td>\n",
              "      <td>-1</td>\n",
              "      <td>1</td>\n",
              "      <td>1</td>\n",
              "      <td>1</td>\n",
              "      <td>-1</td>\n",
              "      <td>-1</td>\n",
              "      <td>-1</td>\n",
              "      <td>-1</td>\n",
              "      <td>-1</td>\n",
              "      <td>...</td>\n",
              "      <td>1</td>\n",
              "      <td>1</td>\n",
              "      <td>-1</td>\n",
              "      <td>-1</td>\n",
              "      <td>-1</td>\n",
              "      <td>-1</td>\n",
              "      <td>1</td>\n",
              "      <td>1</td>\n",
              "      <td>-1</td>\n",
              "      <td>-1</td>\n",
              "    </tr>\n",
              "    <tr>\n",
              "      <th>1</th>\n",
              "      <td>2</td>\n",
              "      <td>1</td>\n",
              "      <td>1</td>\n",
              "      <td>1</td>\n",
              "      <td>1</td>\n",
              "      <td>1</td>\n",
              "      <td>-1</td>\n",
              "      <td>0</td>\n",
              "      <td>1</td>\n",
              "      <td>-1</td>\n",
              "      <td>...</td>\n",
              "      <td>1</td>\n",
              "      <td>1</td>\n",
              "      <td>-1</td>\n",
              "      <td>-1</td>\n",
              "      <td>0</td>\n",
              "      <td>-1</td>\n",
              "      <td>1</td>\n",
              "      <td>1</td>\n",
              "      <td>1</td>\n",
              "      <td>-1</td>\n",
              "    </tr>\n",
              "    <tr>\n",
              "      <th>2</th>\n",
              "      <td>3</td>\n",
              "      <td>1</td>\n",
              "      <td>0</td>\n",
              "      <td>1</td>\n",
              "      <td>1</td>\n",
              "      <td>1</td>\n",
              "      <td>-1</td>\n",
              "      <td>-1</td>\n",
              "      <td>-1</td>\n",
              "      <td>-1</td>\n",
              "      <td>...</td>\n",
              "      <td>1</td>\n",
              "      <td>1</td>\n",
              "      <td>1</td>\n",
              "      <td>-1</td>\n",
              "      <td>1</td>\n",
              "      <td>-1</td>\n",
              "      <td>1</td>\n",
              "      <td>0</td>\n",
              "      <td>-1</td>\n",
              "      <td>-1</td>\n",
              "    </tr>\n",
              "    <tr>\n",
              "      <th>3</th>\n",
              "      <td>4</td>\n",
              "      <td>1</td>\n",
              "      <td>0</td>\n",
              "      <td>1</td>\n",
              "      <td>1</td>\n",
              "      <td>1</td>\n",
              "      <td>-1</td>\n",
              "      <td>-1</td>\n",
              "      <td>-1</td>\n",
              "      <td>1</td>\n",
              "      <td>...</td>\n",
              "      <td>1</td>\n",
              "      <td>1</td>\n",
              "      <td>-1</td>\n",
              "      <td>-1</td>\n",
              "      <td>1</td>\n",
              "      <td>-1</td>\n",
              "      <td>1</td>\n",
              "      <td>-1</td>\n",
              "      <td>1</td>\n",
              "      <td>-1</td>\n",
              "    </tr>\n",
              "    <tr>\n",
              "      <th>4</th>\n",
              "      <td>5</td>\n",
              "      <td>1</td>\n",
              "      <td>0</td>\n",
              "      <td>-1</td>\n",
              "      <td>1</td>\n",
              "      <td>1</td>\n",
              "      <td>-1</td>\n",
              "      <td>1</td>\n",
              "      <td>1</td>\n",
              "      <td>-1</td>\n",
              "      <td>...</td>\n",
              "      <td>-1</td>\n",
              "      <td>1</td>\n",
              "      <td>-1</td>\n",
              "      <td>-1</td>\n",
              "      <td>0</td>\n",
              "      <td>-1</td>\n",
              "      <td>1</td>\n",
              "      <td>1</td>\n",
              "      <td>1</td>\n",
              "      <td>1</td>\n",
              "    </tr>\n",
              "  </tbody>\n",
              "</table>\n",
              "<p>5 rows × 32 columns</p>\n",
              "</div>\n",
              "      <button class=\"colab-df-convert\" onclick=\"convertToInteractive('df-0cfd29fd-085e-4b9e-896d-f3deb044d3a7')\"\n",
              "              title=\"Convert this dataframe to an interactive table.\"\n",
              "              style=\"display:none;\">\n",
              "        \n",
              "  <svg xmlns=\"http://www.w3.org/2000/svg\" height=\"24px\"viewBox=\"0 0 24 24\"\n",
              "       width=\"24px\">\n",
              "    <path d=\"M0 0h24v24H0V0z\" fill=\"none\"/>\n",
              "    <path d=\"M18.56 5.44l.94 2.06.94-2.06 2.06-.94-2.06-.94-.94-2.06-.94 2.06-2.06.94zm-11 1L8.5 8.5l.94-2.06 2.06-.94-2.06-.94L8.5 2.5l-.94 2.06-2.06.94zm10 10l.94 2.06.94-2.06 2.06-.94-2.06-.94-.94-2.06-.94 2.06-2.06.94z\"/><path d=\"M17.41 7.96l-1.37-1.37c-.4-.4-.92-.59-1.43-.59-.52 0-1.04.2-1.43.59L10.3 9.45l-7.72 7.72c-.78.78-.78 2.05 0 2.83L4 21.41c.39.39.9.59 1.41.59.51 0 1.02-.2 1.41-.59l7.78-7.78 2.81-2.81c.8-.78.8-2.07 0-2.86zM5.41 20L4 18.59l7.72-7.72 1.47 1.35L5.41 20z\"/>\n",
              "  </svg>\n",
              "      </button>\n",
              "      \n",
              "  <style>\n",
              "    .colab-df-container {\n",
              "      display:flex;\n",
              "      flex-wrap:wrap;\n",
              "      gap: 12px;\n",
              "    }\n",
              "\n",
              "    .colab-df-convert {\n",
              "      background-color: #E8F0FE;\n",
              "      border: none;\n",
              "      border-radius: 50%;\n",
              "      cursor: pointer;\n",
              "      display: none;\n",
              "      fill: #1967D2;\n",
              "      height: 32px;\n",
              "      padding: 0 0 0 0;\n",
              "      width: 32px;\n",
              "    }\n",
              "\n",
              "    .colab-df-convert:hover {\n",
              "      background-color: #E2EBFA;\n",
              "      box-shadow: 0px 1px 2px rgba(60, 64, 67, 0.3), 0px 1px 3px 1px rgba(60, 64, 67, 0.15);\n",
              "      fill: #174EA6;\n",
              "    }\n",
              "\n",
              "    [theme=dark] .colab-df-convert {\n",
              "      background-color: #3B4455;\n",
              "      fill: #D2E3FC;\n",
              "    }\n",
              "\n",
              "    [theme=dark] .colab-df-convert:hover {\n",
              "      background-color: #434B5C;\n",
              "      box-shadow: 0px 1px 3px 1px rgba(0, 0, 0, 0.15);\n",
              "      filter: drop-shadow(0px 1px 2px rgba(0, 0, 0, 0.3));\n",
              "      fill: #FFFFFF;\n",
              "    }\n",
              "  </style>\n",
              "\n",
              "      <script>\n",
              "        const buttonEl =\n",
              "          document.querySelector('#df-0cfd29fd-085e-4b9e-896d-f3deb044d3a7 button.colab-df-convert');\n",
              "        buttonEl.style.display =\n",
              "          google.colab.kernel.accessAllowed ? 'block' : 'none';\n",
              "\n",
              "        async function convertToInteractive(key) {\n",
              "          const element = document.querySelector('#df-0cfd29fd-085e-4b9e-896d-f3deb044d3a7');\n",
              "          const dataTable =\n",
              "            await google.colab.kernel.invokeFunction('convertToInteractive',\n",
              "                                                     [key], {});\n",
              "          if (!dataTable) return;\n",
              "\n",
              "          const docLinkHtml = 'Like what you see? Visit the ' +\n",
              "            '<a target=\"_blank\" href=https://colab.research.google.com/notebooks/data_table.ipynb>data table notebook</a>'\n",
              "            + ' to learn more about interactive tables.';\n",
              "          element.innerHTML = '';\n",
              "          dataTable['output_type'] = 'display_data';\n",
              "          await google.colab.output.renderOutput(dataTable, element);\n",
              "          const docLink = document.createElement('div');\n",
              "          docLink.innerHTML = docLinkHtml;\n",
              "          element.appendChild(docLink);\n",
              "        }\n",
              "      </script>\n",
              "    </div>\n",
              "  </div>\n",
              "  "
            ]
          },
          "metadata": {},
          "execution_count": 48
        }
      ]
    },
    {
      "cell_type": "code",
      "source": [
        "#we see 32 features as mentioned in the write up about this assessment\n",
        "dataset.info()"
      ],
      "metadata": {
        "colab": {
          "base_uri": "https://localhost:8080/"
        },
        "id": "fRIELPDBr3lY",
        "outputId": "c0fec333-0cc2-4f81-f862-7bf490673674"
      },
      "execution_count": 49,
      "outputs": [
        {
          "output_type": "stream",
          "name": "stdout",
          "text": [
            "<class 'pandas.core.frame.DataFrame'>\n",
            "RangeIndex: 11055 entries, 0 to 11054\n",
            "Data columns (total 32 columns):\n",
            " #   Column                       Non-Null Count  Dtype\n",
            "---  ------                       --------------  -----\n",
            " 0   index                        11055 non-null  int64\n",
            " 1   having_IPhaving_IP_Address   11055 non-null  int64\n",
            " 2   URLURL_Length                11055 non-null  int64\n",
            " 3   Shortining_Service           11055 non-null  int64\n",
            " 4   having_At_Symbol             11055 non-null  int64\n",
            " 5   double_slash_redirecting     11055 non-null  int64\n",
            " 6   Prefix_Suffix                11055 non-null  int64\n",
            " 7   having_Sub_Domain            11055 non-null  int64\n",
            " 8   SSLfinal_State               11055 non-null  int64\n",
            " 9   Domain_registeration_length  11055 non-null  int64\n",
            " 10  Favicon                      11055 non-null  int64\n",
            " 11  port                         11055 non-null  int64\n",
            " 12  HTTPS_token                  11055 non-null  int64\n",
            " 13  Request_URL                  11055 non-null  int64\n",
            " 14  URL_of_Anchor                11055 non-null  int64\n",
            " 15  Links_in_tags                11055 non-null  int64\n",
            " 16  SFH                          11055 non-null  int64\n",
            " 17  Submitting_to_email          11055 non-null  int64\n",
            " 18  Abnormal_URL                 11055 non-null  int64\n",
            " 19  Redirect                     11055 non-null  int64\n",
            " 20  on_mouseover                 11055 non-null  int64\n",
            " 21  RightClick                   11055 non-null  int64\n",
            " 22  popUpWidnow                  11055 non-null  int64\n",
            " 23  Iframe                       11055 non-null  int64\n",
            " 24  age_of_domain                11055 non-null  int64\n",
            " 25  DNSRecord                    11055 non-null  int64\n",
            " 26  web_traffic                  11055 non-null  int64\n",
            " 27  Page_Rank                    11055 non-null  int64\n",
            " 28  Google_Index                 11055 non-null  int64\n",
            " 29  Links_pointing_to_page       11055 non-null  int64\n",
            " 30  Statistical_report           11055 non-null  int64\n",
            " 31  Result                       11055 non-null  int64\n",
            "dtypes: int64(32)\n",
            "memory usage: 2.7 MB\n"
          ]
        }
      ]
    },
    {
      "cell_type": "code",
      "source": [
        "#no null values and all are integers\n",
        "dataset.isnull().values.any() #another way to see if there are any null values"
      ],
      "metadata": {
        "colab": {
          "base_uri": "https://localhost:8080/"
        },
        "id": "935beWpkr_kB",
        "outputId": "3b786238-2b98-4298-e46e-d71338f3a9b4"
      },
      "execution_count": 50,
      "outputs": [
        {
          "output_type": "execute_result",
          "data": {
            "text/plain": [
              "False"
            ]
          },
          "metadata": {},
          "execution_count": 50
        }
      ]
    },
    {
      "cell_type": "code",
      "source": [
        "dataset.shape"
      ],
      "metadata": {
        "colab": {
          "base_uri": "https://localhost:8080/"
        },
        "id": "YqijT6avtbCA",
        "outputId": "2a7e7fa2-3107-4095-ebbb-243e147d3bdf"
      },
      "execution_count": 51,
      "outputs": [
        {
          "output_type": "execute_result",
          "data": {
            "text/plain": [
              "(11055, 32)"
            ]
          },
          "metadata": {},
          "execution_count": 51
        }
      ]
    },
    {
      "cell_type": "code",
      "source": [
        "from collections import Counter"
      ],
      "metadata": {
        "id": "4NElzdQ51GQX"
      },
      "execution_count": 52,
      "outputs": []
    },
    {
      "cell_type": "code",
      "source": [
        "print(sorted(Counter(dataset['Result']).items()))"
      ],
      "metadata": {
        "colab": {
          "base_uri": "https://localhost:8080/"
        },
        "id": "QsFkZjkJ1OD_",
        "outputId": "696d85be-8d61-42c2-ddcf-22170388cf88"
      },
      "execution_count": 53,
      "outputs": [
        {
          "output_type": "stream",
          "name": "stdout",
          "text": [
            "[(-1, 4898), (1, 6157)]\n"
          ]
        }
      ]
    },
    {
      "cell_type": "code",
      "source": [
        "#we see here that there's about 50/50 split in whether a URL is flagged as suspicious or not\n",
        "\n",
        "#set what suspiscious is and what's not\n",
        "\n",
        "#Creating 2 dataframes now where URL is marked as phising or not\n",
        "URL_phishing = dataset[dataset['Result']==-1]\n",
        "URL_notphising = dataset[dataset['Result']==1]"
      ],
      "metadata": {
        "id": "zcA3EeoA1RdI"
      },
      "execution_count": 54,
      "outputs": []
    },
    {
      "cell_type": "code",
      "source": [
        "from sklearn.preprocessing import MinMaxScaler\n",
        "from sklearn.ensemble import RandomForestClassifier\n",
        "from sklearn.metrics import classification_report,confusion_matrix"
      ],
      "metadata": {
        "id": "fTyCCbFE1Rgd"
      },
      "execution_count": 55,
      "outputs": []
    },
    {
      "cell_type": "code",
      "source": [
        "#drop the index column...useless just keeping track of how much data we have\n",
        "\n",
        "dataset.drop('index', axis=1,inplace=True)"
      ],
      "metadata": {
        "id": "azjFouKC1aU1"
      },
      "execution_count": 56,
      "outputs": []
    },
    {
      "cell_type": "code",
      "source": [
        "dataset.columns"
      ],
      "metadata": {
        "colab": {
          "base_uri": "https://localhost:8080/"
        },
        "id": "CZR0ZI961d6v",
        "outputId": "4927cad6-1921-438a-e564-01c4a493ba50"
      },
      "execution_count": 57,
      "outputs": [
        {
          "output_type": "execute_result",
          "data": {
            "text/plain": [
              "Index(['having_IPhaving_IP_Address', 'URLURL_Length', 'Shortining_Service',\n",
              "       'having_At_Symbol', 'double_slash_redirecting', 'Prefix_Suffix',\n",
              "       'having_Sub_Domain', 'SSLfinal_State', 'Domain_registeration_length',\n",
              "       'Favicon', 'port', 'HTTPS_token', 'Request_URL', 'URL_of_Anchor',\n",
              "       'Links_in_tags', 'SFH', 'Submitting_to_email', 'Abnormal_URL',\n",
              "       'Redirect', 'on_mouseover', 'RightClick', 'popUpWidnow', 'Iframe',\n",
              "       'age_of_domain', 'DNSRecord', 'web_traffic', 'Page_Rank',\n",
              "       'Google_Index', 'Links_pointing_to_page', 'Statistical_report',\n",
              "       'Result'],\n",
              "      dtype='object')"
            ]
          },
          "metadata": {},
          "execution_count": 57
        }
      ]
    },
    {
      "cell_type": "code",
      "source": [
        "dataset.shape #we see 31 columns, removed index feature"
      ],
      "metadata": {
        "colab": {
          "base_uri": "https://localhost:8080/"
        },
        "id": "nz4cPYPY1i_w",
        "outputId": "e25876da-bc36-404c-ba0a-b355add20e5f"
      },
      "execution_count": 58,
      "outputs": [
        {
          "output_type": "execute_result",
          "data": {
            "text/plain": [
              "(11055, 31)"
            ]
          },
          "metadata": {},
          "execution_count": 58
        }
      ]
    },
    {
      "cell_type": "code",
      "source": [
        "#Checking Coorelation\n",
        "Num_feature_col=dataset.select_dtypes(include = ['int64'])\n",
        "cor_matrix = Num_feature_col.corr().abs()\n",
        "print(cor_matrix)"
      ],
      "metadata": {
        "colab": {
          "base_uri": "https://localhost:8080/"
        },
        "id": "7ARuAih21pFe",
        "outputId": "6db549cd-c651-44c7-ef2d-eaea57bd6d64"
      },
      "execution_count": 59,
      "outputs": [
        {
          "output_type": "stream",
          "name": "stdout",
          "text": [
            "                             having_IPhaving_IP_Address  URLURL_Length  \\\n",
            "having_IPhaving_IP_Address                     1.000000       0.052411   \n",
            "URLURL_Length                                  0.052411       1.000000   \n",
            "Shortining_Service                             0.403461       0.097881   \n",
            "having_At_Symbol                               0.158699       0.075108   \n",
            "double_slash_redirecting                       0.397389       0.081247   \n",
            "Prefix_Suffix                                  0.005257       0.055247   \n",
            "having_Sub_Domain                              0.080745       0.003997   \n",
            "SSLfinal_State                                 0.071414       0.048754   \n",
            "Domain_registeration_length                    0.022739       0.221892   \n",
            "Favicon                                        0.087025       0.042497   \n",
            "port                                           0.060979       0.000323   \n",
            "HTTPS_token                                    0.363534       0.089383   \n",
            "Request_URL                                    0.029773       0.246348   \n",
            "URL_of_Anchor                                  0.099847       0.023396   \n",
            "Links_in_tags                                  0.006212       0.052869   \n",
            "SFH                                            0.010962       0.414196   \n",
            "Submitting_to_email                            0.077989       0.014457   \n",
            "Abnormal_URL                                   0.336549       0.106761   \n",
            "Redirect                                       0.321181       0.046832   \n",
            "on_mouseover                                   0.084059       0.045103   \n",
            "RightClick                                     0.042881       0.013613   \n",
            "popUpWidnow                                    0.096882       0.049381   \n",
            "Iframe                                         0.054694       0.013838   \n",
            "age_of_domain                                  0.010446       0.179426   \n",
            "DNSRecord                                      0.050733       0.040823   \n",
            "web_traffic                                    0.002922       0.008993   \n",
            "Page_Rank                                      0.091774       0.183518   \n",
            "Google_Index                                   0.029153       0.002902   \n",
            "Links_pointing_to_page                         0.339065       0.022987   \n",
            "Statistical_report                             0.019103       0.067153   \n",
            "Result                                         0.094160       0.057430   \n",
            "\n",
            "                             Shortining_Service  having_At_Symbol  \\\n",
            "having_IPhaving_IP_Address             0.403461          0.158699   \n",
            "URLURL_Length                          0.097881          0.075108   \n",
            "Shortining_Service                     1.000000          0.104447   \n",
            "having_At_Symbol                       0.104447          1.000000   \n",
            "double_slash_redirecting               0.842796          0.086960   \n",
            "Prefix_Suffix                          0.080471          0.011726   \n",
            "having_Sub_Domain                      0.041916          0.058976   \n",
            "SSLfinal_State                         0.061426          0.031220   \n",
            "Domain_registeration_length            0.060923          0.015522   \n",
            "Favicon                                0.006101          0.304899   \n",
            "port                                   0.002201          0.364891   \n",
            "HTTPS_token                            0.757838          0.104561   \n",
            "Request_URL                            0.037235          0.027909   \n",
            "URL_of_Anchor                          0.000561          0.057914   \n",
            "Links_in_tags                          0.133379          0.070861   \n",
            "SFH                                    0.022723          0.008672   \n",
            "Submitting_to_email                    0.049328          0.370123   \n",
            "Abnormal_URL                           0.739290          0.203945   \n",
            "Redirect                               0.534530          0.028160   \n",
            "on_mouseover                           0.062383          0.279697   \n",
            "RightClick                             0.038118          0.219503   \n",
            "popUpWidnow                            0.036616          0.290893   \n",
            "Iframe                                 0.016581          0.284410   \n",
            "age_of_domain                          0.052596          0.005499   \n",
            "DNSRecord                              0.436064          0.047872   \n",
            "web_traffic                            0.047074          0.032918   \n",
            "Page_Rank                              0.014591          0.064735   \n",
            "Google_Index                           0.155844          0.037061   \n",
            "Links_pointing_to_page                 0.198410          0.006080   \n",
            "Statistical_report                     0.085461          0.080357   \n",
            "Result                                 0.067966          0.052948   \n",
            "\n",
            "                             double_slash_redirecting  Prefix_Suffix  \\\n",
            "having_IPhaving_IP_Address                   0.397389       0.005257   \n",
            "URLURL_Length                                0.081247       0.055247   \n",
            "Shortining_Service                           0.842796       0.080471   \n",
            "having_At_Symbol                             0.086960       0.011726   \n",
            "double_slash_redirecting                     1.000000       0.085590   \n",
            "Prefix_Suffix                                0.085590       1.000000   \n",
            "having_Sub_Domain                            0.043079       0.087891   \n",
            "SSLfinal_State                               0.036200       0.261391   \n",
            "Domain_registeration_length                  0.047464       0.096799   \n",
            "Favicon                                      0.035100       0.007504   \n",
            "port                                         0.025060       0.022546   \n",
            "HTTPS_token                                  0.760799       0.070153   \n",
            "Request_URL                                  0.026368       0.098675   \n",
            "URL_of_Anchor                                0.005036       0.348871   \n",
            "Links_in_tags                                0.125583       0.100254   \n",
            "SFH                                          0.041672       0.001326   \n",
            "Submitting_to_email                          0.031898       0.045000   \n",
            "Abnormal_URL                                 0.723724       0.077620   \n",
            "Redirect                                     0.591478       0.016271   \n",
            "on_mouseover                                 0.086635       0.012578   \n",
            "RightClick                                   0.025863       0.024868   \n",
            "popUpWidnow                                  0.054463       0.014733   \n",
            "Iframe                                       0.010459       0.036904   \n",
            "age_of_domain                                0.050107       0.074116   \n",
            "DNSRecord                                    0.431409       0.016556   \n",
            "web_traffic                                  0.062369       0.110598   \n",
            "Page_Rank                                    0.003132       0.006834   \n",
            "Google_Index                                 0.178415       0.067781   \n",
            "Links_pointing_to_page                       0.194165       0.067423   \n",
            "Statistical_report                           0.070390       0.002763   \n",
            "Result                                       0.038608       0.348606   \n",
            "\n",
            "                             having_Sub_Domain  SSLfinal_State  \\\n",
            "having_IPhaving_IP_Address            0.080745        0.071414   \n",
            "URLURL_Length                         0.003997        0.048754   \n",
            "Shortining_Service                    0.041916        0.061426   \n",
            "having_At_Symbol                      0.058976        0.031220   \n",
            "double_slash_redirecting              0.043079        0.036200   \n",
            "Prefix_Suffix                         0.087891        0.261391   \n",
            "having_Sub_Domain                     1.000000        0.267649   \n",
            "SSLfinal_State                        0.267649        1.000000   \n",
            "Domain_registeration_length           0.082839        0.193622   \n",
            "Favicon                               0.016704        0.014757   \n",
            "port                                  0.004863        0.027473   \n",
            "HTTPS_token                           0.037239        0.029941   \n",
            "Request_URL                           0.104857        0.193054   \n",
            "URL_of_Anchor                         0.229491        0.535786   \n",
            "Links_in_tags                         0.093646        0.176825   \n",
            "SFH                                   0.096089        0.171402   \n",
            "Submitting_to_email                   0.008830        0.008062   \n",
            "Abnormal_URL                          0.034908        0.046245   \n",
            "Redirect                              0.031206        0.021070   \n",
            "on_mouseover                          0.018082        0.023586   \n",
            "RightClick                            0.018230        0.015854   \n",
            "popUpWidnow                           0.025312        0.013005   \n",
            "Iframe                                0.010637        0.002773   \n",
            "age_of_domain                         0.119254        0.162809   \n",
            "DNSRecord                             0.125493        0.050972   \n",
            "web_traffic                           0.005764        0.258768   \n",
            "Page_Rank                             0.120730        0.074545   \n",
            "Google_Index                          0.057673        0.096051   \n",
            "Links_pointing_to_page                0.010526        0.011710   \n",
            "Statistical_report                    0.081627        0.063411   \n",
            "Result                                0.298323        0.714741   \n",
            "\n",
            "                             Domain_registeration_length   Favicon  ...  \\\n",
            "having_IPhaving_IP_Address                      0.022739  0.087025  ...   \n",
            "URLURL_Length                                   0.221892  0.042497  ...   \n",
            "Shortining_Service                              0.060923  0.006101  ...   \n",
            "having_At_Symbol                                0.015522  0.304899  ...   \n",
            "double_slash_redirecting                        0.047464  0.035100  ...   \n",
            "Prefix_Suffix                                   0.096799  0.007504  ...   \n",
            "having_Sub_Domain                               0.082839  0.016704  ...   \n",
            "SSLfinal_State                                  0.193622  0.014757  ...   \n",
            "Domain_registeration_length                     1.000000  0.054253  ...   \n",
            "Favicon                                         0.054253  1.000000  ...   \n",
            "port                                            0.022478  0.803834  ...   \n",
            "HTTPS_token                                     0.059161  0.049483  ...   \n",
            "Request_URL                                     0.609970  0.004620  ...   \n",
            "URL_of_Anchor                                   0.160257  0.037698  ...   \n",
            "Links_in_tags                                   0.101084  0.100341  ...   \n",
            "SFH                                             0.136422  0.012279  ...   \n",
            "Submitting_to_email                             0.039260  0.668317  ...   \n",
            "Abnormal_URL                                    0.058109  0.071848  ...   \n",
            "Redirect                                        0.016300  0.015621  ...   \n",
            "on_mouseover                                    0.023784  0.706179  ...   \n",
            "RightClick                                      0.023520  0.414382  ...   \n",
            "popUpWidnow                                     0.051410  0.939633  ...   \n",
            "Iframe                                          0.004393  0.627607  ...   \n",
            "age_of_domain                                   0.062851  0.002628  ...   \n",
            "DNSRecord                                       0.010477  0.088211  ...   \n",
            "web_traffic                                     0.134454  0.050922  ...   \n",
            "Page_Rank                                       0.059898  0.011699  ...   \n",
            "Google_Index                                    0.039766  0.016668  ...   \n",
            "Links_pointing_to_page                          0.122672  0.127243  ...   \n",
            "Statistical_report                              0.002212  0.300917  ...   \n",
            "Result                                          0.225789  0.000280  ...   \n",
            "\n",
            "                             popUpWidnow    Iframe  age_of_domain  DNSRecord  \\\n",
            "having_IPhaving_IP_Address      0.096882  0.054694       0.010446   0.050733   \n",
            "URLURL_Length                   0.049381  0.013838       0.179426   0.040823   \n",
            "Shortining_Service              0.036616  0.016581       0.052596   0.436064   \n",
            "having_At_Symbol                0.290893  0.284410       0.005499   0.047872   \n",
            "double_slash_redirecting        0.054463  0.010459       0.050107   0.431409   \n",
            "Prefix_Suffix                   0.014733  0.036904       0.074116   0.016556   \n",
            "having_Sub_Domain               0.025312  0.010637       0.119254   0.125493   \n",
            "SSLfinal_State                  0.013005  0.002773       0.162809   0.050972   \n",
            "Domain_registeration_length     0.051410  0.004393       0.062851   0.010477   \n",
            "Favicon                         0.939633  0.627607       0.002628   0.088211   \n",
            "port                            0.748517  0.687044       0.008459   0.054849   \n",
            "HTTPS_token                     0.066957  0.017509       0.049632   0.395387   \n",
            "Request_URL                     0.004622  0.016934       0.090455   0.015933   \n",
            "URL_of_Anchor                   0.041150  0.013403       0.075508   0.093288   \n",
            "Links_in_tags                   0.112282  0.070030       0.078057   0.038545   \n",
            "SFH                             0.004863  0.007067       0.015840   0.034440   \n",
            "Submitting_to_email             0.629462  0.577490       0.007357   0.064145   \n",
            "Abnormal_URL                    0.091188  0.017590       0.032533   0.366833   \n",
            "Redirect                        0.026327  0.012668       0.022476   0.211096   \n",
            "on_mouseover                    0.733629  0.659478       0.013306   0.087161   \n",
            "RightClick                      0.415268  0.655863       0.006764   0.038255   \n",
            "popUpWidnow                     1.000000  0.629406       0.000948   0.098658   \n",
            "Iframe                          0.629406  1.000000       0.018848   0.047293   \n",
            "age_of_domain                   0.000948  0.018848       1.000000   0.034082   \n",
            "DNSRecord                       0.098658  0.047293       0.034082   1.000000   \n",
            "web_traffic                     0.043190  0.022080       0.089949   0.048650   \n",
            "Page_Rank                       0.017114  0.022407       0.147194   0.137860   \n",
            "Google_Index                    0.010256  0.003519       0.028471   0.137509   \n",
            "Links_pointing_to_page          0.121325  0.140824       0.040407   0.318266   \n",
            "Statistical_report              0.285261  0.268418       0.009115   0.136860   \n",
            "Result                          0.000086  0.003394       0.121496   0.075718   \n",
            "\n",
            "                             web_traffic  Page_Rank  Google_Index  \\\n",
            "having_IPhaving_IP_Address      0.002922   0.091774      0.029153   \n",
            "URLURL_Length                   0.008993   0.183518      0.002902   \n",
            "Shortining_Service              0.047074   0.014591      0.155844   \n",
            "having_At_Symbol                0.032918   0.064735      0.037061   \n",
            "double_slash_redirecting        0.062369   0.003132      0.178415   \n",
            "Prefix_Suffix                   0.110598   0.006834      0.067781   \n",
            "having_Sub_Domain               0.005764   0.120730      0.057673   \n",
            "SSLfinal_State                  0.258768   0.074545      0.096051   \n",
            "Domain_registeration_length     0.134454   0.059898      0.039766   \n",
            "Favicon                         0.050922   0.011699      0.016668   \n",
            "port                            0.028543   0.017954      0.005413   \n",
            "HTTPS_token                     0.039708   0.021104      0.115450   \n",
            "Request_URL                     0.161166   0.055734      0.046409   \n",
            "URL_of_Anchor                   0.326293   0.099261      0.038816   \n",
            "Links_in_tags                   0.064548   0.006450      0.045557   \n",
            "SFH                             0.052706   0.001979      0.027588   \n",
            "Submitting_to_email             0.015685   0.026208      0.008378   \n",
            "Abnormal_URL                    0.052416   0.007318      0.124751   \n",
            "Redirect                        0.004631   0.052867      0.057230   \n",
            "on_mouseover                    0.036531   0.015634      0.006510   \n",
            "RightClick                      0.013594   0.025341      0.008066   \n",
            "popUpWidnow                     0.043190   0.017114      0.010256   \n",
            "Iframe                          0.022080   0.022407      0.003519   \n",
            "age_of_domain                   0.089949   0.147194      0.028471   \n",
            "DNSRecord                       0.048650   0.137860      0.137509   \n",
            "web_traffic                     1.000000   0.030984      0.012584   \n",
            "Page_Rank                       0.030984   1.000000      0.032431   \n",
            "Google_Index                    0.012584   0.032431      1.000000   \n",
            "Links_pointing_to_page          0.019860   0.028216      0.038777   \n",
            "Statistical_report              0.009223   0.031049      0.005103   \n",
            "Result                          0.346103   0.104645      0.128950   \n",
            "\n",
            "                             Links_pointing_to_page  Statistical_report  \\\n",
            "having_IPhaving_IP_Address                 0.339065            0.019103   \n",
            "URLURL_Length                              0.022987            0.067153   \n",
            "Shortining_Service                         0.198410            0.085461   \n",
            "having_At_Symbol                           0.006080            0.080357   \n",
            "double_slash_redirecting                   0.194165            0.070390   \n",
            "Prefix_Suffix                              0.067423            0.002763   \n",
            "having_Sub_Domain                          0.010526            0.081627   \n",
            "SSLfinal_State                             0.011710            0.063411   \n",
            "Domain_registeration_length                0.122672            0.002212   \n",
            "Favicon                                    0.127243            0.300917   \n",
            "port                                       0.139104            0.343987   \n",
            "HTTPS_token                                0.128724            0.096187   \n",
            "Request_URL                                0.067109            0.035412   \n",
            "URL_of_Anchor                              0.018651            0.077377   \n",
            "Links_in_tags                              0.013561            0.087343   \n",
            "SFH                                        0.009068            0.005289   \n",
            "Submitting_to_email                        0.039956            0.352074   \n",
            "Abnormal_URL                               0.161027            0.186399   \n",
            "Redirect                                   0.161278            0.059194   \n",
            "on_mouseover                               0.038551            0.277347   \n",
            "RightClick                                 0.119831            0.204409   \n",
            "popUpWidnow                                0.121325            0.285261   \n",
            "Iframe                                     0.140824            0.268418   \n",
            "age_of_domain                              0.040407            0.009115   \n",
            "DNSRecord                                  0.318266            0.136860   \n",
            "web_traffic                                0.019860            0.009223   \n",
            "Page_Rank                                  0.028216            0.031049   \n",
            "Google_Index                               0.038777            0.005103   \n",
            "Links_pointing_to_page                     1.000000            0.016817   \n",
            "Statistical_report                         0.016817            1.000000   \n",
            "Result                                     0.032574            0.079857   \n",
            "\n",
            "                               Result  \n",
            "having_IPhaving_IP_Address   0.094160  \n",
            "URLURL_Length                0.057430  \n",
            "Shortining_Service           0.067966  \n",
            "having_At_Symbol             0.052948  \n",
            "double_slash_redirecting     0.038608  \n",
            "Prefix_Suffix                0.348606  \n",
            "having_Sub_Domain            0.298323  \n",
            "SSLfinal_State               0.714741  \n",
            "Domain_registeration_length  0.225789  \n",
            "Favicon                      0.000280  \n",
            "port                         0.036419  \n",
            "HTTPS_token                  0.039854  \n",
            "Request_URL                  0.253372  \n",
            "URL_of_Anchor                0.692935  \n",
            "Links_in_tags                0.248229  \n",
            "SFH                          0.221419  \n",
            "Submitting_to_email          0.018249  \n",
            "Abnormal_URL                 0.060488  \n",
            "Redirect                     0.020113  \n",
            "on_mouseover                 0.041838  \n",
            "RightClick                   0.012653  \n",
            "popUpWidnow                  0.000086  \n",
            "Iframe                       0.003394  \n",
            "age_of_domain                0.121496  \n",
            "DNSRecord                    0.075718  \n",
            "web_traffic                  0.346103  \n",
            "Page_Rank                    0.104645  \n",
            "Google_Index                 0.128950  \n",
            "Links_pointing_to_page       0.032574  \n",
            "Statistical_report           0.079857  \n",
            "Result                       1.000000  \n",
            "\n",
            "[31 rows x 31 columns]\n"
          ]
        }
      ]
    },
    {
      "cell_type": "code",
      "source": [
        " plt.figure(figsize=[10,7])\n",
        "sns.heatmap(data=cor_matrix, cmap='viridis', annot=False, fmt='.2g')"
      ],
      "metadata": {
        "id": "qway0ccz2GWp"
      },
      "execution_count": null,
      "outputs": []
    },
    {
      "cell_type": "code",
      "source": [
        "dataset.hist(column='URLURL_Length')"
      ],
      "metadata": {
        "id": "8A4rkwZYtek4"
      },
      "execution_count": null,
      "outputs": []
    },
    {
      "cell_type": "code",
      "source": [
        "dataset.hist(column='having_At_Symbol')"
      ],
      "metadata": {
        "id": "qFwoAxOGwbWP"
      },
      "execution_count": null,
      "outputs": []
    },
    {
      "cell_type": "code",
      "source": [
        "dataset.hist(column='Redirect')"
      ],
      "metadata": {
        "id": "F3ipIU02QyPj"
      },
      "execution_count": null,
      "outputs": []
    },
    {
      "cell_type": "code",
      "source": [
        "dataset.hist(column='popUpWidnow')"
      ],
      "metadata": {
        "id": "AKBB88paSSJ5"
      },
      "execution_count": null,
      "outputs": []
    },
    {
      "cell_type": "code",
      "source": [
        "dataset.hist(column='web_traffic')"
      ],
      "metadata": {
        "id": "sGiwwrnOSbBu"
      },
      "execution_count": null,
      "outputs": []
    },
    {
      "cell_type": "code",
      "source": [
        "dataset.hist(column='age_of_domain')"
      ],
      "metadata": {
        "id": "_snM_GVdTLzt"
      },
      "execution_count": null,
      "outputs": []
    },
    {
      "cell_type": "code",
      "source": [
        "dataset.hist(column='HTTPS_token')"
      ],
      "metadata": {
        "id": "dnDDGda-V3jF"
      },
      "execution_count": null,
      "outputs": []
    },
    {
      "cell_type": "code",
      "source": [
        "uniform_data = np.random.rand(32, 32)\n",
        "ax = sns.heatmap(uniform_data, linewidth=0.5)\n",
        "plt.show()"
      ],
      "metadata": {
        "id": "v9chKvDswiiA"
      },
      "execution_count": null,
      "outputs": []
    },
    {
      "cell_type": "code",
      "source": [
        "#next, we do feature selection to reduce overfitting by making data less redundant, and reduces training time by eliminating the misleading data"
      ],
      "metadata": {
        "id": "8FPIz9RJ5GMn"
      },
      "execution_count": null,
      "outputs": []
    },
    {
      "cell_type": "code",
      "source": [
        "#seperating the y (target) variable/column as this is the prediction output\n",
        "y_dataset = dataset['Result'].values\n",
        "y_dataset"
      ],
      "metadata": {
        "id": "z6F4nEO9ERuM"
      },
      "execution_count": null,
      "outputs": []
    },
    {
      "cell_type": "code",
      "source": [
        "x_dataset=dataset.iloc[:,:-1]\n",
        "x_dataset.head()\n",
        "#our independent variables/features in their own dataset"
      ],
      "metadata": {
        "id": "_8XbKHi1Gzgv"
      },
      "execution_count": null,
      "outputs": []
    },
    {
      "cell_type": "code",
      "source": [
        "import sklearn\n",
        "from sklearn.model_selection import train_test_split\n",
        "x_train, x_test, y_train, y_test = train_test_split(x_dataset,y_dataset, test_size=0.3, random_state=1)"
      ],
      "metadata": {
        "id": "uzr7dlWfFSMc"
      },
      "execution_count": null,
      "outputs": []
    },
    {
      "cell_type": "code",
      "source": [
        "print(x_train.shape)"
      ],
      "metadata": {
        "id": "2b0fFc51GxSE"
      },
      "execution_count": null,
      "outputs": []
    },
    {
      "cell_type": "code",
      "source": [
        "x_train.describe()"
      ],
      "metadata": {
        "id": "6s_EzoqYJ-LW"
      },
      "execution_count": null,
      "outputs": []
    },
    {
      "cell_type": "code",
      "source": [
        ""
      ],
      "metadata": {
        "id": "RZZjm-tsxTeI"
      },
      "execution_count": null,
      "outputs": []
    },
    {
      "cell_type": "code",
      "source": [
        ""
      ],
      "metadata": {
        "id": "fuTddYtjxpCV"
      },
      "execution_count": null,
      "outputs": []
    },
    {
      "cell_type": "code",
      "source": [
        ""
      ],
      "metadata": {
        "id": "9N7rZwbdx_e8"
      },
      "execution_count": null,
      "outputs": []
    },
    {
      "cell_type": "code",
      "source": [
        "\n"
      ],
      "metadata": {
        "id": "umaPkNNZyKay"
      },
      "execution_count": null,
      "outputs": []
    },
    {
      "cell_type": "code",
      "source": [
        ""
      ],
      "metadata": {
        "id": "BZwIMqK1ynxf"
      },
      "execution_count": null,
      "outputs": []
    },
    {
      "cell_type": "code",
      "source": [
        ""
      ],
      "metadata": {
        "id": "yPvUwypQzcbo"
      },
      "execution_count": null,
      "outputs": []
    },
    {
      "cell_type": "code",
      "source": [
        ""
      ],
      "metadata": {
        "id": "zKQ4WR5YzyNP"
      },
      "execution_count": null,
      "outputs": []
    },
    {
      "cell_type": "code",
      "source": [
        ""
      ],
      "metadata": {
        "id": "-IgTa2Qd0CnT"
      },
      "execution_count": null,
      "outputs": []
    },
    {
      "cell_type": "code",
      "source": [
        ""
      ],
      "metadata": {
        "id": "XlXh6zg-0UHH"
      },
      "execution_count": null,
      "outputs": []
    },
    {
      "cell_type": "code",
      "source": [
        ""
      ],
      "metadata": {
        "id": "rnX2hhvDzijr"
      },
      "execution_count": null,
      "outputs": []
    },
    {
      "cell_type": "code",
      "source": [
        "from sklearn.linear_model import LogisticRegression"
      ],
      "metadata": {
        "id": "E7LFjvHuHWzc"
      },
      "execution_count": null,
      "outputs": []
    },
    {
      "cell_type": "code",
      "source": [
        "lr=LogisticRegression() #instatiate the model"
      ],
      "metadata": {
        "id": "6Fm-TbmTH0KU"
      },
      "execution_count": null,
      "outputs": []
    },
    {
      "cell_type": "code",
      "source": [
        "#fit the model over our training set\n",
        "lr.fit(x_train, y_train)"
      ],
      "metadata": {
        "id": "JfAu5JmbH3yU"
      },
      "execution_count": null,
      "outputs": []
    },
    {
      "cell_type": "code",
      "source": [
        ""
      ],
      "metadata": {
        "id": "uQQqfeGpH8-y"
      },
      "execution_count": null,
      "outputs": []
    }
  ]
}